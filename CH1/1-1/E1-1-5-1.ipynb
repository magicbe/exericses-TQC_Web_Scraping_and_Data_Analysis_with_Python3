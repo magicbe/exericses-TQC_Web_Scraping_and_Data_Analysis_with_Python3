{
 "cells": [
  {
   "cell_type": "markdown",
   "metadata": {},
   "source": [
    "### 1-1-5 txt 檔案寫入\n",
    "文字檔讀取與寫入：台積電存股規劃<p>\n",
    "根據目前的規定，每筆成交（買或賣均同）券商可收成交金額之千分之 1.425 為手\n",
    "續費，小數點以下無條件捨去，不足 20 元以 20 元計，因此若要對台積電每天買進\n",
    "零股進行存股，需要買到最低股數否則將因為手續費而提高交易成本。計算如下："
   ]
  },
  {
   "cell_type": "code",
   "execution_count": 1,
   "metadata": {},
   "outputs": [
    {
     "name": "stdout",
     "output_type": "stream",
     "text": [
      "每股價格：209.00，每日需購股數：   68\n",
      "每股價格：207.00，每日需購股數：   68\n",
      "每股價格：208.50，每日需購股數：   68\n",
      "每股價格：207.50，每日需購股數：   68\n",
      "每股價格：206.00，每日需購股數：   69\n"
     ]
    }
   ],
   "source": [
    "# 文字檔讀取與寫入：台積電存股規劃\n",
    "import math\n",
    "with open('data5.txt', 'r') as fin:\n",
    "    with open('data5_w.txt', 'w') as fout:\n",
    "        for line in fin:\n",
    "            data = math.ceil(20/(float(line)*0.001425))\n",
    "            print('每股價格：%5.2f，每日需購股數：%5.0f' % (float(line), data))\n",
    "            fout.write(str(data)+'\\n')"
   ]
  },
  {
   "cell_type": "markdown",
   "metadata": {},
   "source": [
    "範例程式說明\n",
    "- 2行載入需要使用的math函式庫。\n",
    "- 3-4行使用兩個withas分開用以讀取(r)與寫入(w)檔案，檔案物件別名分別為fin與fout。\n",
    "- 5行迴圈進入迭代讀取資料。\n",
    "- 6行將迭代取出的資料line轉成浮點數乘上0.001425得到每股應付手續費，用20/每股應付手續費後無條件進整即可得每曰需購股數。（所購股數低於此數會因為仍需付20元手續費而拉高取得交易成本）\n",
    "- 7行以整數格式化輸出line與data，line的資料型別預設為字串，格式化前先轉成浮點數。\n",
    "- 8行將data資料寫入fout指向的檔案。"
   ]
  }
 ],
 "metadata": {
  "kernelspec": {
   "display_name": "Python 3",
   "language": "python",
   "name": "python3"
  },
  "language_info": {
   "codemirror_mode": {
    "name": "ipython",
    "version": 3
   },
   "file_extension": ".py",
   "mimetype": "text/x-python",
   "name": "python",
   "nbconvert_exporter": "python",
   "pygments_lexer": "ipython3",
   "version": "3.7.1"
  }
 },
 "nbformat": 4,
 "nbformat_minor": 2
}
