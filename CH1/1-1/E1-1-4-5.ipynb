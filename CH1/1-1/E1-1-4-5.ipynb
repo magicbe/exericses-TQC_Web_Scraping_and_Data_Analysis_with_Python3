{
 "cells": [
  {
   "cell_type": "markdown",
   "metadata": {},
   "source": [
    "分析班級電腦課程期末考試情況，統計各個級別的人數。\n",
    "考試成績按一行儲存在文字檔案 score.txt 中，級別分類：\n",
    "90分以上、89-80分、79-70分、69-60分、59-40分、39分以下。<p>\n",
    "\n",
    "演算法設計如下：\n",
    "\n",
    "1. 讀入檔案資料到串列 L。\n",
    "    - 1.1 以唯讀方式打開檔案 score.txt。\n",
    "    - 1.2 使用 read 方法讀入資料得到一個字串物件 a。\n",
    "    - 1.3 使用 split 方法分離資料得到串列 L，串列中的資料為整數字串。\n",
    "    - 1.4 遍歷串列 L 將字串物件轉換為整數。\n",
    "2. 分類統計各級別人數到列表 c。\n",
    "    - 2.1 列表 c 初始化置 0。\n",
    "    - 2.2 迴圏反覆運算遍歷L中的每一個元素 x。\n",
    "    - 如果 x>=90，則 c[0] 增1。\n",
    "    - 否則如果 x>=80，則 c[1] 增 1。\n",
    "    - 否則如果 x>=70，則 c[2] 增 1。\n",
    "    - 否則如果 x>=60，則 c[3] 增 1。\n",
    "    - 否則如果 x>=40，則 c[4] 增 1。\n",
    "    - 否則 c[5] 增1。\n",
    "3. 輸出各級別統計結果。"
   ]
  },
  {
   "cell_type": "code",
   "execution_count": 2,
   "metadata": {},
   "outputs": [
    {
     "name": "stdout",
     "output_type": "stream",
     "text": [
      "90 分以上 15 人，89-80 分 22 人，79-70 分 9 人，69-60 分 8 人，59-40 分 4 人，39 分以下 5 人\n"
     ]
    }
   ],
   "source": [
    "# 分類統計成績\n",
    "f = open('score.txt')\n",
    "a = f.read()\n",
    "L = a.split()\n",
    "for i in range(len(L)):\n",
    "    L[i] = int(L[i])\n",
    "# 分類統計各級別人數到列表 c\n",
    "c = [0] * 6\n",
    "for x in L:\n",
    "    if x >= 90:\n",
    "        c[0] += 1\n",
    "    elif x >= 80:\n",
    "        c[1] += 1\n",
    "    elif x >= 70:\n",
    "        c[2] += 1\n",
    "    elif x >= 60:\n",
    "        c[3] += 1\n",
    "    elif x >= 40:\n",
    "        c[4] += 1\n",
    "    else:\n",
    "        c[5] += 1\n",
    "# 輸出各級別統計結果\n",
    "print('90 分以上 %d 人' % c[0], end='，')\n",
    "print('89-80 分 %d 人' % c[1], end='，')\n",
    "print('79-70 分 %d 人' % c[2], end='，')\n",
    "print('69-60 分 %d 人' % c[3], end='，')\n",
    "print('59-40 分 %d 人' % c[4], end='，')\n",
    "print('39 分以下 %d 人' % c[5])"
   ]
  }
 ],
 "metadata": {
  "kernelspec": {
   "display_name": "Python 3",
   "language": "python",
   "name": "python3"
  },
  "language_info": {
   "codemirror_mode": {
    "name": "ipython",
    "version": 3
   },
   "file_extension": ".py",
   "mimetype": "text/x-python",
   "name": "python",
   "nbconvert_exporter": "python",
   "pygments_lexer": "ipython3",
   "version": "3.7.1"
  }
 },
 "nbformat": 4,
 "nbformat_minor": 2
}
