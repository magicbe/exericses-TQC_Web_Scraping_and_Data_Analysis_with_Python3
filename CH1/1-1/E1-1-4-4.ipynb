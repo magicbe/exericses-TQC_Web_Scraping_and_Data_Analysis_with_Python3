{
 "cells": [
  {
   "cell_type": "markdown",
   "metadata": {},
   "source": [
    "多行多行整數資料讀入<p>\n",
    "data3.txt 中存放這 5 列整數資料，將其讀到串列 L3 中。以唯讀方式打開 data3.txt"
   ]
  },
  {
   "cell_type": "code",
   "execution_count": 1,
   "metadata": {},
   "outputs": [
    {
     "name": "stdout",
     "output_type": "stream",
     "text": [
      "679\t69\t191\t510\t73\t815\t182\t583\t96\n",
      "153\t450\t109\t107\t443\t371\t140\t136\t242\n",
      "206\t236\t378\t993\t802\t131\t428\t94\t169\n",
      "572\t201\t687\t30\t53\t519\t58\t247\t891\n",
      "727\t934\t441\t518\t94\t942\t587\t389\t799\n",
      "\n"
     ]
    }
   ],
   "source": [
    "f = open('data3.txt')\n",
    "a = f.read() # 完整讀取 txt 檔\n",
    "print(a)"
   ]
  },
  {
   "cell_type": "code",
   "execution_count": 2,
   "metadata": {},
   "outputs": [
    {
     "name": "stdout",
     "output_type": "stream",
     "text": [
      "['679', '69', '191', '510', '73', '815', '182', '583', '96', '153', '450', '109', '107', '443', '371', '140', '136', '242', '206', '236', '378', '993', '802', '131', '428', '94', '169', '572', '201', '687', '30', '53', '519', '58', '247', '891', '727', '934', '441', '518', '94', '942', '587', '389', '799']\n"
     ]
    }
   ],
   "source": [
    "L3 = a.split() # split() 預設把「空格、Tab(\\t)、換行(\\n)」作為切割符號，放入 list 內。\n",
    "print(L3)\n",
    "f.close()"
   ]
  },
  {
   "cell_type": "code",
   "execution_count": 3,
   "metadata": {},
   "outputs": [
    {
     "name": "stdout",
     "output_type": "stream",
     "text": [
      "['679\\t69\\t191\\t510\\t73\\t815\\t182\\t583\\t96\\n', '153\\t450\\t109\\t107\\t443\\t371\\t140\\t136\\t242\\n', '206\\t236\\t378\\t993\\t802\\t131\\t428\\t94\\t169\\n', '572\\t201\\t687\\t30\\t53\\t519\\t58\\t247\\t891\\n', '727\\t934\\t441\\t518\\t94\\t942\\t587\\t389\\t799\\n']\n"
     ]
    }
   ],
   "source": [
    "L4 = list(open('data3.txt')) # 直接讀取 txt 檔，轉換成 list，以每行當成一個 list 元素。\n",
    "print(L4)"
   ]
  },
  {
   "cell_type": "code",
   "execution_count": 4,
   "metadata": {},
   "outputs": [
    {
     "name": "stdout",
     "output_type": "stream",
     "text": [
      "['679', '69', '191', '510', '73', '815', '182', '583', '96', '153', '450', '109', '107', '443', '371', '140', '136', '242', '206', '236', '378', '993', '802', '131', '428', '94', '169', '572', '201', '687', '30', '53', '519', '58', '247', '891', '727', '934', '441', '518', '94', '942', '587', '389', '799']\n"
     ]
    }
   ],
   "source": [
    "L5 = []\n",
    "for i in L4:\n",
    "    L5.extend(i.split()) # 把每行資料以 split() 轉換成 list，並合併至 L5。\n",
    "print(L5)"
   ]
  },
  {
   "cell_type": "code",
   "execution_count": 5,
   "metadata": {},
   "outputs": [
    {
     "name": "stdout",
     "output_type": "stream",
     "text": [
      "[679, 69, 191, 510, 73, 815, 182, 583, 96, 153, 450, 109, 107, 443, 371, 140, 136, 242, 206, 236, 378, 993, 802, 131, 428, 94, 169, 572, 201, 687, 30, 53, 519, 58, 247, 891, 727, 934, 441, 518, 94, 942, 587, 389, 799]\n"
     ]
    }
   ],
   "source": [
    "for i in range(0, len(L5)):\n",
    "    L5[i] = int(L5[i]) # 逐一將資料由文字型態轉換為整數型態\n",
    "print(L5)"
   ]
  }
 ],
 "metadata": {
  "kernelspec": {
   "display_name": "Python 3",
   "language": "python",
   "name": "python3"
  },
  "language_info": {
   "codemirror_mode": {
    "name": "ipython",
    "version": 3
   },
   "file_extension": ".py",
   "mimetype": "text/x-python",
   "name": "python",
   "nbconvert_exporter": "python",
   "pygments_lexer": "ipython3",
   "version": "3.7.1"
  }
 },
 "nbformat": 4,
 "nbformat_minor": 2
}
